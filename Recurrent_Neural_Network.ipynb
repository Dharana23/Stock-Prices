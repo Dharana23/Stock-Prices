{
  "nbformat": 4,
  "nbformat_minor": 0,
  "metadata": {
    "colab": {
      "name": "Recurrent_Neural_Network.ipynb",
      "provenance": [],
      "authorship_tag": "ABX9TyObnNd9Lhtr8GGWAOYSS2ye"
    },
    "kernelspec": {
      "name": "python3",
      "display_name": "Python 3"
    },
    "accelerator": "GPU"
  },
  "cells": [
    {
      "cell_type": "code",
      "metadata": {
        "id": "w1FYmlm-4OYN",
        "colab_type": "code",
        "colab": {}
      },
      "source": [
        "import numpy as np\n",
        "import matplotlib.pyplot as plt\n",
        "import pandas as pd"
      ],
      "execution_count": 0,
      "outputs": []
    },
    {
      "cell_type": "code",
      "metadata": {
        "id": "xKjC-Gw_5u0A",
        "colab_type": "code",
        "colab": {}
      },
      "source": [
        "dataset_train = pd.read_csv('/content/Google_Stock_Price_Train.csv')"
      ],
      "execution_count": 0,
      "outputs": []
    },
    {
      "cell_type": "code",
      "metadata": {
        "id": "P8kug1df6QG9",
        "colab_type": "code",
        "colab": {}
      },
      "source": [
        "training_set = dataset_train.iloc[:, 1:2].values"
      ],
      "execution_count": 0,
      "outputs": []
    },
    {
      "cell_type": "code",
      "metadata": {
        "id": "XkvEOZe461it",
        "colab_type": "code",
        "colab": {}
      },
      "source": [
        "from sklearn.preprocessing import MinMaxScaler\n",
        "sc = MinMaxScaler(feature_range=(0, 1))\n",
        "training_set_scaled = sc.fit_transform(training_set)"
      ],
      "execution_count": 0,
      "outputs": []
    },
    {
      "cell_type": "code",
      "metadata": {
        "id": "VJv-SW5f8Kqo",
        "colab_type": "code",
        "colab": {}
      },
      "source": [
        "X_train = []\n",
        "y_train = []\n",
        "for i in range(60, 1258):\n",
        "  X_train.append(training_set_scaled[i-60:i, 0])\n",
        "  y_train.append(training_set_scaled[i, 0])\n",
        "\n",
        "X_train, y_train = np.array(X_train), np.array(y_train)"
      ],
      "execution_count": 0,
      "outputs": []
    },
    {
      "cell_type": "code",
      "metadata": {
        "id": "6wgc9tXUCbIL",
        "colab_type": "code",
        "colab": {}
      },
      "source": [
        "X_train = np.reshape(X_train, (X_train.shape[0], X_train.shape[1], 1))"
      ],
      "execution_count": 0,
      "outputs": []
    },
    {
      "cell_type": "code",
      "metadata": {
        "id": "VqtdLfy3FAv_",
        "colab_type": "code",
        "colab": {}
      },
      "source": [
        "from keras.models import Sequential\n",
        "from keras.layers import Dense\n",
        "from keras.layers import LSTM\n",
        "from keras.layers import Dropout"
      ],
      "execution_count": 0,
      "outputs": []
    },
    {
      "cell_type": "code",
      "metadata": {
        "id": "GuzJP_PtFfGQ",
        "colab_type": "code",
        "colab": {}
      },
      "source": [
        "regressor = Sequential()\n",
        "regressor.add(LSTM(units=50, return_sequences=True, input_shape=(X_train.shape[1], 1)))\n",
        "regressor.add(Dropout(rate=0.2))\n",
        "regressor.add(LSTM(units=50, return_sequences=True))\n",
        "regressor.add(Dropout(rate=0.2))\n",
        "regressor.add(LSTM(units=50, return_sequences=True))\n",
        "regressor.add(Dropout(rate=0.2))\n",
        "regressor.add(LSTM(units=50))\n",
        "regressor.add(Dropout(rate=0.2))\n",
        "regressor.add(Dense(units=1))"
      ],
      "execution_count": 0,
      "outputs": []
    },
    {
      "cell_type": "code",
      "metadata": {
        "id": "6VN6ovT_KNS0",
        "colab_type": "code",
        "colab": {}
      },
      "source": [
        "regressor.compile(optimizer='adam', loss='mean_squared_error')"
      ],
      "execution_count": 0,
      "outputs": []
    },
    {
      "cell_type": "code",
      "metadata": {
        "id": "Uw7YHOemL0QP",
        "colab_type": "code",
        "colab": {
          "base_uri": "https://localhost:8080/",
          "height": 1000
        },
        "outputId": "42d464dc-3671-48df-cc17-fd2c68c74bcc"
      },
      "source": [
        "regressor.fit(X_train, y_train, epochs=100, batch_size=32)"
      ],
      "execution_count": 19,
      "outputs": [
        {
          "output_type": "stream",
          "text": [
            "Epoch 1/100\n",
            "1198/1198 [==============================] - 17s 14ms/step - loss: 0.0364\n",
            "Epoch 2/100\n",
            "1198/1198 [==============================] - 15s 12ms/step - loss: 0.0063\n",
            "Epoch 3/100\n",
            "1198/1198 [==============================] - 14s 12ms/step - loss: 0.0055\n",
            "Epoch 4/100\n",
            "1198/1198 [==============================] - 14s 12ms/step - loss: 0.0051\n",
            "Epoch 5/100\n",
            "1198/1198 [==============================] - 14s 12ms/step - loss: 0.0052\n",
            "Epoch 6/100\n",
            "1198/1198 [==============================] - 14s 12ms/step - loss: 0.0048\n",
            "Epoch 7/100\n",
            "1198/1198 [==============================] - 14s 12ms/step - loss: 0.0047\n",
            "Epoch 8/100\n",
            "1198/1198 [==============================] - 14s 12ms/step - loss: 0.0045\n",
            "Epoch 9/100\n",
            "1198/1198 [==============================] - 14s 12ms/step - loss: 0.0048\n",
            "Epoch 10/100\n",
            "1198/1198 [==============================] - 14s 12ms/step - loss: 0.0047\n",
            "Epoch 11/100\n",
            "1198/1198 [==============================] - 14s 12ms/step - loss: 0.0042\n",
            "Epoch 12/100\n",
            "1198/1198 [==============================] - 14s 11ms/step - loss: 0.0046\n",
            "Epoch 13/100\n",
            "1198/1198 [==============================] - 14s 12ms/step - loss: 0.0040\n",
            "Epoch 14/100\n",
            "1198/1198 [==============================] - 14s 12ms/step - loss: 0.0039\n",
            "Epoch 15/100\n",
            "1198/1198 [==============================] - 14s 11ms/step - loss: 0.0038\n",
            "Epoch 16/100\n",
            "1198/1198 [==============================] - 14s 11ms/step - loss: 0.0041\n",
            "Epoch 17/100\n",
            "1198/1198 [==============================] - 14s 11ms/step - loss: 0.0042\n",
            "Epoch 18/100\n",
            "1198/1198 [==============================] - 14s 11ms/step - loss: 0.0036\n",
            "Epoch 19/100\n",
            "1198/1198 [==============================] - 14s 11ms/step - loss: 0.0036\n",
            "Epoch 20/100\n",
            "1198/1198 [==============================] - 14s 11ms/step - loss: 0.0039\n",
            "Epoch 21/100\n",
            "1198/1198 [==============================] - 14s 11ms/step - loss: 0.0035\n",
            "Epoch 22/100\n",
            "1198/1198 [==============================] - 14s 11ms/step - loss: 0.0035\n",
            "Epoch 23/100\n",
            "1198/1198 [==============================] - 14s 11ms/step - loss: 0.0033\n",
            "Epoch 24/100\n",
            "1198/1198 [==============================] - 14s 11ms/step - loss: 0.0031\n",
            "Epoch 25/100\n",
            "1198/1198 [==============================] - 14s 11ms/step - loss: 0.0032\n",
            "Epoch 26/100\n",
            "1198/1198 [==============================] - 14s 11ms/step - loss: 0.0029\n",
            "Epoch 27/100\n",
            "1198/1198 [==============================] - 14s 11ms/step - loss: 0.0034\n",
            "Epoch 28/100\n",
            "1198/1198 [==============================] - 13s 11ms/step - loss: 0.0030\n",
            "Epoch 29/100\n",
            "1198/1198 [==============================] - 14s 11ms/step - loss: 0.0029\n",
            "Epoch 30/100\n",
            "1198/1198 [==============================] - 14s 11ms/step - loss: 0.0038\n",
            "Epoch 31/100\n",
            "1198/1198 [==============================] - 14s 11ms/step - loss: 0.0029\n",
            "Epoch 32/100\n",
            "1198/1198 [==============================] - 13s 11ms/step - loss: 0.0030\n",
            "Epoch 33/100\n",
            "1198/1198 [==============================] - 13s 11ms/step - loss: 0.0034\n",
            "Epoch 34/100\n",
            "1198/1198 [==============================] - 14s 11ms/step - loss: 0.0028\n",
            "Epoch 35/100\n",
            "1198/1198 [==============================] - 14s 11ms/step - loss: 0.0032\n",
            "Epoch 36/100\n",
            "1198/1198 [==============================] - 14s 12ms/step - loss: 0.0028\n",
            "Epoch 37/100\n",
            "1198/1198 [==============================] - 14s 11ms/step - loss: 0.0028\n",
            "Epoch 38/100\n",
            "1198/1198 [==============================] - 13s 11ms/step - loss: 0.0030\n",
            "Epoch 39/100\n",
            "1198/1198 [==============================] - 14s 11ms/step - loss: 0.0029\n",
            "Epoch 40/100\n",
            "1198/1198 [==============================] - 14s 11ms/step - loss: 0.0029\n",
            "Epoch 41/100\n",
            "1198/1198 [==============================] - 14s 11ms/step - loss: 0.0025\n",
            "Epoch 42/100\n",
            "1198/1198 [==============================] - 14s 11ms/step - loss: 0.0026\n",
            "Epoch 43/100\n",
            "1198/1198 [==============================] - 14s 11ms/step - loss: 0.0025\n",
            "Epoch 44/100\n",
            "1198/1198 [==============================] - 14s 11ms/step - loss: 0.0025\n",
            "Epoch 45/100\n",
            "1198/1198 [==============================] - 13s 11ms/step - loss: 0.0025\n",
            "Epoch 46/100\n",
            "1198/1198 [==============================] - 13s 11ms/step - loss: 0.0023\n",
            "Epoch 47/100\n",
            "1198/1198 [==============================] - 13s 11ms/step - loss: 0.0027\n",
            "Epoch 48/100\n",
            "1198/1198 [==============================] - 13s 11ms/step - loss: 0.0024\n",
            "Epoch 49/100\n",
            "1198/1198 [==============================] - 14s 11ms/step - loss: 0.0025\n",
            "Epoch 50/100\n",
            "1198/1198 [==============================] - 13s 11ms/step - loss: 0.0024\n",
            "Epoch 51/100\n",
            "1198/1198 [==============================] - 13s 11ms/step - loss: 0.0021\n",
            "Epoch 52/100\n",
            "1198/1198 [==============================] - 13s 11ms/step - loss: 0.0025\n",
            "Epoch 53/100\n",
            "1198/1198 [==============================] - 14s 11ms/step - loss: 0.0025\n",
            "Epoch 54/100\n",
            "1198/1198 [==============================] - 13s 11ms/step - loss: 0.0025\n",
            "Epoch 55/100\n",
            "1198/1198 [==============================] - 14s 11ms/step - loss: 0.0025\n",
            "Epoch 56/100\n",
            "1198/1198 [==============================] - 13s 11ms/step - loss: 0.0021\n",
            "Epoch 57/100\n",
            "1198/1198 [==============================] - 13s 11ms/step - loss: 0.0022\n",
            "Epoch 58/100\n",
            "1198/1198 [==============================] - 14s 11ms/step - loss: 0.0020\n",
            "Epoch 59/100\n",
            "1198/1198 [==============================] - 14s 12ms/step - loss: 0.0022\n",
            "Epoch 60/100\n",
            "1198/1198 [==============================] - 13s 11ms/step - loss: 0.0020\n",
            "Epoch 61/100\n",
            "1198/1198 [==============================] - 14s 11ms/step - loss: 0.0023\n",
            "Epoch 62/100\n",
            "1198/1198 [==============================] - 13s 11ms/step - loss: 0.0024\n",
            "Epoch 63/100\n",
            "1198/1198 [==============================] - 14s 11ms/step - loss: 0.0018\n",
            "Epoch 64/100\n",
            "1198/1198 [==============================] - 13s 11ms/step - loss: 0.0021\n",
            "Epoch 65/100\n",
            "1198/1198 [==============================] - 14s 11ms/step - loss: 0.0020\n",
            "Epoch 66/100\n",
            "1198/1198 [==============================] - 13s 11ms/step - loss: 0.0021\n",
            "Epoch 67/100\n",
            "1198/1198 [==============================] - 14s 11ms/step - loss: 0.0021\n",
            "Epoch 68/100\n",
            "1198/1198 [==============================] - 13s 11ms/step - loss: 0.0019\n",
            "Epoch 69/100\n",
            "1198/1198 [==============================] - 14s 11ms/step - loss: 0.0020\n",
            "Epoch 70/100\n",
            "1198/1198 [==============================] - 14s 11ms/step - loss: 0.0020\n",
            "Epoch 71/100\n",
            "1198/1198 [==============================] - 13s 11ms/step - loss: 0.0019\n",
            "Epoch 72/100\n",
            "1198/1198 [==============================] - 13s 11ms/step - loss: 0.0020\n",
            "Epoch 73/100\n",
            "1198/1198 [==============================] - 13s 11ms/step - loss: 0.0019\n",
            "Epoch 74/100\n",
            "1198/1198 [==============================] - 13s 11ms/step - loss: 0.0018\n",
            "Epoch 75/100\n",
            "1198/1198 [==============================] - 13s 11ms/step - loss: 0.0021\n",
            "Epoch 76/100\n",
            "1198/1198 [==============================] - 13s 11ms/step - loss: 0.0017\n",
            "Epoch 77/100\n",
            "1198/1198 [==============================] - 13s 11ms/step - loss: 0.0019\n",
            "Epoch 78/100\n",
            "1198/1198 [==============================] - 13s 11ms/step - loss: 0.0018\n",
            "Epoch 79/100\n",
            "1198/1198 [==============================] - 14s 11ms/step - loss: 0.0018\n",
            "Epoch 80/100\n",
            "1198/1198 [==============================] - 13s 11ms/step - loss: 0.0018\n",
            "Epoch 81/100\n",
            "1198/1198 [==============================] - 13s 11ms/step - loss: 0.0017\n",
            "Epoch 82/100\n",
            "1198/1198 [==============================] - 14s 11ms/step - loss: 0.0017\n",
            "Epoch 83/100\n",
            "1198/1198 [==============================] - 14s 11ms/step - loss: 0.0016\n",
            "Epoch 84/100\n",
            "1198/1198 [==============================] - 14s 11ms/step - loss: 0.0021\n",
            "Epoch 85/100\n",
            "1198/1198 [==============================] - 14s 11ms/step - loss: 0.0018\n",
            "Epoch 86/100\n",
            "1198/1198 [==============================] - 13s 11ms/step - loss: 0.0017\n",
            "Epoch 87/100\n",
            "1198/1198 [==============================] - 14s 11ms/step - loss: 0.0019\n",
            "Epoch 88/100\n",
            "1198/1198 [==============================] - 13s 11ms/step - loss: 0.0016\n",
            "Epoch 89/100\n",
            "1198/1198 [==============================] - 13s 11ms/step - loss: 0.0018\n",
            "Epoch 90/100\n",
            "1198/1198 [==============================] - 14s 11ms/step - loss: 0.0017\n",
            "Epoch 91/100\n",
            "1198/1198 [==============================] - 14s 11ms/step - loss: 0.0015\n",
            "Epoch 92/100\n",
            "1198/1198 [==============================] - 13s 11ms/step - loss: 0.0016\n",
            "Epoch 93/100\n",
            "1198/1198 [==============================] - 14s 11ms/step - loss: 0.0015\n",
            "Epoch 94/100\n",
            "1198/1198 [==============================] - 14s 11ms/step - loss: 0.0016\n",
            "Epoch 95/100\n",
            "1198/1198 [==============================] - 13s 11ms/step - loss: 0.0015\n",
            "Epoch 96/100\n",
            "1198/1198 [==============================] - 13s 11ms/step - loss: 0.0015\n",
            "Epoch 97/100\n",
            "1198/1198 [==============================] - 14s 11ms/step - loss: 0.0015\n",
            "Epoch 98/100\n",
            "1198/1198 [==============================] - 14s 11ms/step - loss: 0.0015\n",
            "Epoch 99/100\n",
            "1198/1198 [==============================] - 14s 12ms/step - loss: 0.0016\n",
            "Epoch 100/100\n",
            "1198/1198 [==============================] - 14s 11ms/step - loss: 0.0016\n"
          ],
          "name": "stdout"
        },
        {
          "output_type": "execute_result",
          "data": {
            "text/plain": [
              "<keras.callbacks.callbacks.History at 0x7f4057770c88>"
            ]
          },
          "metadata": {
            "tags": []
          },
          "execution_count": 19
        }
      ]
    },
    {
      "cell_type": "code",
      "metadata": {
        "id": "AoBbvvLWNBjY",
        "colab_type": "code",
        "colab": {}
      },
      "source": [
        "dataset_test = pd.read_csv('/content/Google_Stock_Price_Test.csv')\n",
        "real_stock_price = dataset_test.iloc[:, 1:2].values"
      ],
      "execution_count": 0,
      "outputs": []
    },
    {
      "cell_type": "code",
      "metadata": {
        "id": "hmvMWROMTzl3",
        "colab_type": "code",
        "colab": {}
      },
      "source": [
        "dataset_total = pd.concat((dataset_train['Open'], dataset_test['Open']), axis=0)"
      ],
      "execution_count": 0,
      "outputs": []
    },
    {
      "cell_type": "code",
      "metadata": {
        "id": "vybSmGaVWSJj",
        "colab_type": "code",
        "colab": {}
      },
      "source": [
        "inputs = dataset_total[len(dataset_total) - len(dataset_test) - 60:].values"
      ],
      "execution_count": 0,
      "outputs": []
    },
    {
      "cell_type": "code",
      "metadata": {
        "id": "n87gdMmPXTcq",
        "colab_type": "code",
        "colab": {}
      },
      "source": [
        "inputs = inputs.reshape(-1, 1)"
      ],
      "execution_count": 0,
      "outputs": []
    },
    {
      "cell_type": "code",
      "metadata": {
        "id": "-krKe8aYYQiw",
        "colab_type": "code",
        "colab": {}
      },
      "source": [
        "inputs = sc.transform(inputs)"
      ],
      "execution_count": 0,
      "outputs": []
    },
    {
      "cell_type": "code",
      "metadata": {
        "id": "vV9bPGUEY8Ni",
        "colab_type": "code",
        "colab": {}
      },
      "source": [
        "X_test = []\n",
        "for i in range(60, 80):\n",
        "  X_test.append(inputs[i-60:i, 0])\n",
        "  \n",
        "X_test = np.array(X_test)"
      ],
      "execution_count": 0,
      "outputs": []
    },
    {
      "cell_type": "code",
      "metadata": {
        "id": "s7xJTrByZ5hT",
        "colab_type": "code",
        "colab": {}
      },
      "source": [
        "X_test = np.reshape(X_test, (X_test.shape[0], X_test.shape[1], 1))"
      ],
      "execution_count": 0,
      "outputs": []
    },
    {
      "cell_type": "code",
      "metadata": {
        "id": "rCZkue9Sad0H",
        "colab_type": "code",
        "colab": {}
      },
      "source": [
        "predicted_stock_price = regressor.predict(X_test)"
      ],
      "execution_count": 0,
      "outputs": []
    },
    {
      "cell_type": "code",
      "metadata": {
        "id": "NBSna15Pa0i0",
        "colab_type": "code",
        "colab": {}
      },
      "source": [
        "predicted_stock_price = sc.inverse_transform(predicted_stock_price)"
      ],
      "execution_count": 0,
      "outputs": []
    },
    {
      "cell_type": "code",
      "metadata": {
        "id": "4bfS1LkvbIME",
        "colab_type": "code",
        "colab": {
          "base_uri": "https://localhost:8080/",
          "height": 295
        },
        "outputId": "3a2c3435-7ed0-458a-93fe-43056f58fc87"
      },
      "source": [
        "plt.plot(real_stock_price, color='red', label='Real Google Stock Price')\n",
        "plt.plot(predicted_stock_price, color='blue', label='Predicted Google Stock price')\n",
        "plt.title('Google Stock Price Prediction')\n",
        "plt.xlabel('Time')\n",
        "plt.ylabel('Stock Price')\n",
        "plt.legend()\n",
        "plt.show()"
      ],
      "execution_count": 35,
      "outputs": [
        {
          "output_type": "display_data",
          "data": {
            "image/png": "[encoded data removed]",
            "text/plain": [
              "<Figure size 432x288 with 1 Axes>"
            ]
          },
          "metadata": {
            "tags": [],
            "needs_background": "light"
          }
        }
      ]
    },
    {
      "cell_type": "code",
      "metadata": {
        "id": "BxceipC6ec_F",
        "colab_type": "code",
        "colab": {}
      },
      "source": [
        "import math\n",
        "from sklearn.metrics import mean_squared_error\n",
        "rmse = math.sqrt(mean_squared_error(real_stock_price, predicted_stock_price))"
      ],
      "execution_count": 0,
      "outputs": []
    },
    {
      "cell_type": "code",
      "metadata": {
        "id": "cs2SnUokfiK9",
        "colab_type": "code",
        "colab": {
          "base_uri": "https://localhost:8080/",
          "height": 34
        },
        "outputId": "12892dfd-ddec-42c5-ba3a-0ebdc3b7100a"
      },
      "source": [
        "rmse"
      ],
      "execution_count": 38,
      "outputs": [
        {
          "output_type": "execute_result",
          "data": {
            "text/plain": [
              "23.193047852874738"
            ]
          },
          "metadata": {
            "tags": []
          },
          "execution_count": 38
        }
      ]
    },
    {
      "cell_type": "code",
      "metadata": {
        "id": "W5U2yF8IfmSJ",
        "colab_type": "code",
        "colab": {}
      },
      "source": [
        ""
      ],
      "execution_count": 0,
      "outputs": []
    }
  ]
}